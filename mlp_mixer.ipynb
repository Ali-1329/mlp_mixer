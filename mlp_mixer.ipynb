{
  "nbformat": 4,
  "nbformat_minor": 0,
  "metadata": {
    "colab": {
      "provenance": [],
      "collapsed_sections": []
    },
    "kernelspec": {
      "name": "python3",
      "display_name": "Python 3"
    },
    "language_info": {
      "name": "python"
    },
    "accelerator": "GPU",
    "gpuClass": "standard"
  },
  "cells": [
    {
      "cell_type": "code",
      "source": [
        "!nvidia-smi"
      ],
      "metadata": {
        "colab": {
          "base_uri": "https://localhost:8080/"
        },
        "id": "-iRpJJ0vTECJ",
        "outputId": "fec83319-c02d-4f91-a5f7-1ffed333dec5"
      },
      "execution_count": 2,
      "outputs": [
        {
          "output_type": "stream",
          "name": "stdout",
          "text": [
            "Mon Sep  5 10:57:50 2022       \n",
            "+-----------------------------------------------------------------------------+\n",
            "| NVIDIA-SMI 460.32.03    Driver Version: 460.32.03    CUDA Version: 11.2     |\n",
            "|-------------------------------+----------------------+----------------------+\n",
            "| GPU  Name        Persistence-M| Bus-Id        Disp.A | Volatile Uncorr. ECC |\n",
            "| Fan  Temp  Perf  Pwr:Usage/Cap|         Memory-Usage | GPU-Util  Compute M. |\n",
            "|                               |                      |               MIG M. |\n",
            "|===============================+======================+======================|\n",
            "|   0  Tesla T4            Off  | 00000000:00:04.0 Off |                    0 |\n",
            "| N/A   44C    P8    10W /  70W |      0MiB / 15109MiB |      0%      Default |\n",
            "|                               |                      |                  N/A |\n",
            "+-------------------------------+----------------------+----------------------+\n",
            "                                                                               \n",
            "+-----------------------------------------------------------------------------+\n",
            "| Processes:                                                                  |\n",
            "|  GPU   GI   CI        PID   Type   Process name                  GPU Memory |\n",
            "|        ID   ID                                                   Usage      |\n",
            "|=============================================================================|\n",
            "|  No running processes found                                                 |\n",
            "+-----------------------------------------------------------------------------+\n"
          ]
        }
      ]
    },
    {
      "cell_type": "markdown",
      "source": [
        "### imports"
      ],
      "metadata": {
        "id": "OYsYRNjZCS25"
      }
    },
    {
      "cell_type": "code",
      "source": [
        "import tensorflow as tf\n",
        "from tensorflow import keras\n",
        "from tensorflow.keras.layers import (\n",
        "    Add,\n",
        "    Dense,\n",
        "    Conv2D,\n",
        "    GlobalAveragePooling1D,\n",
        "    Layer,\n",
        "    LayerNormalization,\n",
        "    Permute,\n",
        "    Softmax,\n",
        "    Activation,\n",
        "    Dropout\n",
        ")\n",
        "from tensorflow.keras import callbacks\n",
        "from keras.models import Sequential\n",
        "import numpy as np\n",
        "import os\n",
        "import matplotlib.pyplot as plt\n",
        "import pandas as pd"
      ],
      "metadata": {
        "id": "ctalDujHCPox"
      },
      "execution_count": 3,
      "outputs": []
    },
    {
      "cell_type": "markdown",
      "source": [],
      "metadata": {
        "id": "NOACY10vCSBJ"
      }
    },
    {
      "cell_type": "markdown",
      "source": [
        "### MlpBlock"
      ],
      "metadata": {
        "id": "oRdpQfaEEuuA"
      }
    },
    {
      "cell_type": "code",
      "source": [
        "class MlpBlock(Layer):\n",
        "    \"\"\"\n",
        "    this Block consists of 2 Linear Blocks, with Dropout, and Activation\n",
        "    \"\"\"    \n",
        "    def __init__(self, dim:int,\n",
        "     hidden_dim:int, \n",
        "     activation:Activation =keras.activations.gelu, \n",
        "     drop:float =0, \n",
        "     **kwargs\n",
        "    )->None:\n",
        "        \"\"\"\n",
        "        Constructs all necessary attributes for the MlpBlock object\n",
        "\n",
        "        Args:\n",
        "            dim (int): shows dimension of the output feature map \n",
        "            hidden_dim (int): represents the dimension of the bottleneck feature map\n",
        "            activation (Activation, optional): Activation function. Defaults to keras.activations.gelu.\n",
        "            drop (float, optional): if drop>0 means apply dropout with rate equals drop . Defaults to 0.\n",
        "        \"\"\"                \n",
        "        super(MlpBlock, self).__init__(**kwargs)\n",
        "        hidden_dim = hidden_dim or dim\n",
        "        self.mlp = Sequential([\n",
        "            Dense(hidden_dim), \n",
        "            Activation(activation), \n",
        "            Dropout(drop),\n",
        "            Dense(dim), \n",
        "            Dropout(drop)          \n",
        "        ])\n",
        "    \n",
        "    def call(self, inputs:tf.Tensor) ->tf.Tensor:\n",
        "        \"\"\"\n",
        "         calculates the output featuremap after applying MlpBlock\n",
        "\n",
        "        Args:\n",
        "            inputs (tf.Tensor): inputs of MlpBlock, that we want to apply 2 Linear layer sequentially to inputs\n",
        "\n",
        "        Returns:\n",
        "            tf.Tensor: output of the MlpBlock after applying 2 sequential Linear layers to the inputs\n",
        "        \"\"\"        \n",
        "        return self.mlp(inputs)\n",
        "        \n",
        "    def compute_output_shape(self, input_signature):\n",
        "        return (input_signature[0], self.dim)\n",
        "\n",
        "    def get_config(self):\n",
        "        config = super(MlpBlock, self).get_config()\n",
        "        config.update({\n",
        "            'dim': self.dim,\n",
        "            'hidden_dim': self.hidden_dim\n",
        "        })\n",
        "        return config"
      ],
      "metadata": {
        "id": "sUIUpmpr-6mY"
      },
      "execution_count": 4,
      "outputs": []
    },
    {
      "cell_type": "markdown",
      "source": [
        "### MixerBlock"
      ],
      "metadata": {
        "id": "ztY0OTfzEzlA"
      }
    },
    {
      "cell_type": "code",
      "source": [
        "class MixerBlock(Layer):\n",
        "    '''applies token_mixer module and channel_mixing module sequentially\n",
        "    '''\n",
        "    def __init__(\n",
        "        self, \n",
        "        num_patches:int, \n",
        "        channel_dim:int,\n",
        "        token_mixer_hidden_dim:int, \n",
        "        channel_mixer_hidden_dim:int = None, \n",
        "        activation:Activation = keras.activations.gelu, \n",
        "        **kwargs\n",
        "    )->None:\n",
        "        \"\"\"\n",
        "       Constructs all necessary variables fo MixerBlock\n",
        "\n",
        "        Args:\n",
        "            num_patches (int): shows number of patches in the input feature map\n",
        "            channel_dim (int): shows channels dimension in the input feature map\n",
        "            token_mixer_hidden_dim (int): dimension of the hidden layer in token_mixer module\n",
        "            channel_mixer_hidden_dim (int, optional): dimension of the hidden layer in channel_mixer module. Defaults to None.\n",
        "            activation (Activation, optional): activation function which is applied in MlpBlocks after first Linear layer. Defaults to keras.activations.gelu.\n",
        "        \"\"\"        \n",
        "        super(MixerBlock, self).__init__(**kwargs)\n",
        "        \n",
        "        self.num_patches = num_patches\n",
        "        self.channel_dim = channel_dim\n",
        "        self.token_mixer_hidden_dim = token_mixer_hidden_dim\n",
        "        self.activation = activation\n",
        "        self.channel_mixer_hidden_dim = channel_mixer_hidden_dim or self.token_mixer_hidden_dim\n",
        "\n",
        "        self.token_mixer = Sequential([\n",
        "            LayerNormalization(axis=1), \n",
        "            Permute((2, 1)), \n",
        "            MlpBlock(self.num_patches, self.token_mixer_hidden_dim), \n",
        "            Permute((2, 1)), \n",
        "        ])\n",
        "        self.channel_mixer = Sequential([\n",
        "            LayerNormalization(axis=1), \n",
        "            MlpBlock(self.channel_dim, channel_mixer_hidden_dim)\n",
        "        ])\n",
        "    def call(self, inputs:tf.Tensor) ->tf.Tensor:\n",
        "        \"\"\"\n",
        "        applies token_mixer module and channel_mixer module sequentially to the inputs and returns the output tensor\n",
        "\n",
        "        Args:\n",
        "            inputs (tf.Tensor): tensor which is given to the MixerBlock as an input\n",
        "\n",
        "        Returns:\n",
        "            tf.Tensor: output after applying the  token_mixer and the channel_mixer module\n",
        "        \"\"\"        \n",
        "        skip_x = inputs\n",
        "        token_mixer_output = self.token_mixer(inputs)\n",
        "\n",
        "        skip_x = skip_x + token_mixer_output\n",
        "        channel_mixer_output = self.channel_mixer(skip_x)\n",
        "\n",
        "        skip_x = skip_x + channel_mixer_output\n",
        "        channel_mixer_output = self.channel_mixer(skip_x)\n",
        "        x = skip_x + channel_mixer_output\n",
        "        return x\n",
        "\n",
        "    def compute_output_shape(self, input_shape):\n",
        "        return input_shape\n",
        "\n",
        "    def get_config(self):\n",
        "        config = super(MixerBlock, self).get_config()\n",
        "        config.update({\n",
        "            'num_patches': self.num_patches,\n",
        "            'channel_dim': self.channel_dim,\n",
        "            'token_mixer_hidden_dim': self.token_mixer_hidden_dim,\n",
        "            'channel_mixer_hidden_dim': self.channel_mixer_hidden_dim,\n",
        "            'activation': self.activation,\n",
        "        })\n",
        "        return config"
      ],
      "metadata": {
        "id": "Mab-THQ_CmmN"
      },
      "execution_count": 5,
      "outputs": []
    },
    {
      "cell_type": "markdown",
      "source": [
        "### MlpMixerBlock"
      ],
      "metadata": {
        "id": "b4k-QQJ4E3CK"
      }
    },
    {
      "cell_type": "code",
      "source": [
        "def MlpMixerModel(\n",
        "        input_shape: int,\n",
        "        num_classes: int,\n",
        "        num_blocks: int,\n",
        "        patch_size: int,\n",
        "        hidden_dim: int,\n",
        "        tokens_mlp_dim: int,\n",
        "        channels_mlp_dim: int = None,\n",
        "        use_softmax: bool = False,\n",
        "):\n",
        "    height, width, _ = input_shape\n",
        "\n",
        "    if channels_mlp_dim is None:\n",
        "        channels_mlp_dim = tokens_mlp_dim\n",
        "\n",
        "    num_patches = (height*width)//(patch_size**2)  \n",
        "\n",
        "    inputs = keras.Input(input_shape)\n",
        "    x = inputs\n",
        "\n",
        "    x = Conv2D(hidden_dim,\n",
        "               kernel_size=patch_size,\n",
        "               strides=patch_size,\n",
        "               padding='same',\n",
        "               name='projector')(x)\n",
        "\n",
        "    x = keras.layers.Reshape([-1, hidden_dim])(x)\n",
        "\n",
        "    for _ in range(num_blocks):\n",
        "        x = MixerBlock(num_patches=num_patches,\n",
        "                       channel_dim=hidden_dim,\n",
        "                       token_mixer_hidden_dim=tokens_mlp_dim,\n",
        "                       channel_mixer_hidden_dim=channels_mlp_dim)(x)\n",
        "\n",
        "    x = GlobalAveragePooling1D()(x) \n",
        "\n",
        "    x = LayerNormalization(name='pre_head_layer_norm')(x)\n",
        "    x = Dense(num_classes, name='head')(x)\n",
        "\n",
        "    if use_softmax:\n",
        "        x = Softmax()(x)\n",
        "    return keras.Model(inputs, x)"
      ],
      "metadata": {
        "id": "Vru3DLvpCmih"
      },
      "execution_count": 6,
      "outputs": []
    },
    {
      "cell_type": "markdown",
      "source": [
        "### callbacks"
      ],
      "metadata": {
        "id": "hRnetiB1FMVj"
      }
    },
    {
      "cell_type": "code",
      "source": [
        "!mkdir files"
      ],
      "metadata": {
        "id": "pKW7qXcgFRUo"
      },
      "execution_count": 7,
      "outputs": []
    },
    {
      "cell_type": "code",
      "source": [
        "model_path = './files/model.h5'\n",
        "csv_path = \"./files/data.csv\""
      ],
      "metadata": {
        "id": "_xYbTgRxKj2Y"
      },
      "execution_count": 8,
      "outputs": []
    },
    {
      "cell_type": "code",
      "source": [
        "my_callbacks = [\n",
        "        callbacks.ModelCheckpoint(model_path),      # create_dir(files)\n",
        "        callbacks.CSVLogger(csv_path),\n",
        "        callbacks.TensorBoard(),\n",
        "        callbacks.ReduceLROnPlateau(monitor='val_loss', factor=0.1, patience=5, min_lr=1e-6, verbose=1),\n",
        "        callbacks.EarlyStopping(monitor='val_loss', patience=50, restore_best_weights=False)\n",
        "    ]  "
      ],
      "metadata": {
        "id": "JZU3XL7iFOuY"
      },
      "execution_count": 9,
      "outputs": []
    },
    {
      "cell_type": "markdown",
      "source": [
        "### Hyperparameters"
      ],
      "metadata": {
        "id": "FLgamb0tRSLr"
      }
    },
    {
      "cell_type": "code",
      "source": [
        "batch_size=16\n",
        "num_blocks=4\n",
        "patch_size=8\n",
        "hidden_dim=32\n",
        "tokens_mlp_dim=64\n",
        "channels_mlp_dim=128\n",
        "num_epochs = 300"
      ],
      "metadata": {
        "id": "356_8WN3RRvg"
      },
      "execution_count": 10,
      "outputs": []
    },
    {
      "cell_type": "markdown",
      "source": [
        "### Training"
      ],
      "metadata": {
        "id": "sF_RZEMkFyzA"
      }
    },
    {
      "cell_type": "code",
      "source": [
        "(x_train, y_train), (x_test, y_test) = tf.keras.datasets.cifar10.load_data()\n",
        "x_train, x_val = x_train[:40000], x_train[40000:]\n",
        "y_train, y_val = y_train[:40000], y_train[40000:]\n",
        "model = MlpMixerModel(input_shape=x_train.shape[1:],\n",
        "                      num_classes=len(np.unique(y_train)), \n",
        "                      num_blocks=num_blocks, \n",
        "                      patch_size=patch_size,\n",
        "                      hidden_dim=hidden_dim, \n",
        "                      tokens_mlp_dim=tokens_mlp_dim,\n",
        "                      channels_mlp_dim=channels_mlp_dim,\n",
        "                      use_softmax=True)\n",
        "model.compile(optimizer='rmsprop', loss='sparse_categorical_crossentropy', metrics='acc')\n",
        "model.fit(x_train, y_train, validation_data=(x_val, y_val), epochs=num_epochs, callbacks=[my_callbacks], batch_size=batch_size)"
      ],
      "metadata": {
        "colab": {
          "base_uri": "https://localhost:8080/"
        },
        "id": "6wDuI0BT-ILf",
        "outputId": "26aea1ce-e709-483c-daec-0a5ab3e5133e"
      },
      "execution_count": 11,
      "outputs": [
        {
          "output_type": "stream",
          "name": "stdout",
          "text": [
            "Downloading data from https://www.cs.toronto.edu/~kriz/cifar-10-python.tar.gz\n",
            "170500096/170498071 [==============================] - 2s 0us/step\n",
            "170508288/170498071 [==============================] - 2s 0us/step\n",
            "Epoch 1/300\n",
            "2500/2500 [==============================] - 49s 13ms/step - loss: 2.0051 - acc: 0.2575 - val_loss: 1.8061 - val_acc: 0.3376 - lr: 0.0010\n",
            "Epoch 2/300\n",
            "2500/2500 [==============================] - 30s 12ms/step - loss: 1.6987 - acc: 0.3860 - val_loss: 1.6441 - val_acc: 0.4045 - lr: 0.0010\n",
            "Epoch 3/300\n",
            "2500/2500 [==============================] - 30s 12ms/step - loss: 1.5704 - acc: 0.4387 - val_loss: 1.5221 - val_acc: 0.4590 - lr: 0.0010\n",
            "Epoch 4/300\n",
            "2500/2500 [==============================] - 31s 13ms/step - loss: 1.4800 - acc: 0.4732 - val_loss: 1.4845 - val_acc: 0.4705 - lr: 0.0010\n",
            "Epoch 5/300\n",
            "2500/2500 [==============================] - 30s 12ms/step - loss: 1.4185 - acc: 0.4947 - val_loss: 1.4188 - val_acc: 0.4955 - lr: 0.0010\n",
            "Epoch 6/300\n",
            "2500/2500 [==============================] - 31s 12ms/step - loss: 1.3707 - acc: 0.5107 - val_loss: 1.3838 - val_acc: 0.5116 - lr: 0.0010\n",
            "Epoch 7/300\n",
            "2500/2500 [==============================] - 30s 12ms/step - loss: 1.3337 - acc: 0.5261 - val_loss: 1.3716 - val_acc: 0.5143 - lr: 0.0010\n",
            "Epoch 8/300\n",
            "2500/2500 [==============================] - 31s 12ms/step - loss: 1.3006 - acc: 0.5364 - val_loss: 1.3593 - val_acc: 0.5208 - lr: 0.0010\n",
            "Epoch 9/300\n",
            "2500/2500 [==============================] - 31s 12ms/step - loss: 1.2735 - acc: 0.5469 - val_loss: 1.3505 - val_acc: 0.5229 - lr: 0.0010\n",
            "Epoch 10/300\n",
            "2500/2500 [==============================] - 30s 12ms/step - loss: 1.2465 - acc: 0.5550 - val_loss: 1.3210 - val_acc: 0.5290 - lr: 0.0010\n",
            "Epoch 11/300\n",
            "2500/2500 [==============================] - 30s 12ms/step - loss: 1.2247 - acc: 0.5637 - val_loss: 1.3159 - val_acc: 0.5399 - lr: 0.0010\n",
            "Epoch 12/300\n",
            "2500/2500 [==============================] - 30s 12ms/step - loss: 1.2010 - acc: 0.5709 - val_loss: 1.2937 - val_acc: 0.5440 - lr: 0.0010\n",
            "Epoch 13/300\n",
            "2500/2500 [==============================] - 30s 12ms/step - loss: 1.1815 - acc: 0.5819 - val_loss: 1.2905 - val_acc: 0.5470 - lr: 0.0010\n",
            "Epoch 14/300\n",
            "2500/2500 [==============================] - 31s 12ms/step - loss: 1.1643 - acc: 0.5859 - val_loss: 1.2946 - val_acc: 0.5466 - lr: 0.0010\n",
            "Epoch 15/300\n",
            "2500/2500 [==============================] - 31s 13ms/step - loss: 1.1487 - acc: 0.5895 - val_loss: 1.2899 - val_acc: 0.5437 - lr: 0.0010\n",
            "Epoch 16/300\n",
            "2500/2500 [==============================] - 30s 12ms/step - loss: 1.1322 - acc: 0.5963 - val_loss: 1.2989 - val_acc: 0.5431 - lr: 0.0010\n",
            "Epoch 17/300\n",
            "2500/2500 [==============================] - 30s 12ms/step - loss: 1.1159 - acc: 0.5999 - val_loss: 1.2806 - val_acc: 0.5550 - lr: 0.0010\n",
            "Epoch 18/300\n",
            "2500/2500 [==============================] - 31s 12ms/step - loss: 1.1014 - acc: 0.6066 - val_loss: 1.2800 - val_acc: 0.5562 - lr: 0.0010\n",
            "Epoch 19/300\n",
            "2500/2500 [==============================] - 30s 12ms/step - loss: 1.0870 - acc: 0.6122 - val_loss: 1.2856 - val_acc: 0.5490 - lr: 0.0010\n",
            "Epoch 20/300\n",
            "2500/2500 [==============================] - 31s 12ms/step - loss: 1.0732 - acc: 0.6175 - val_loss: 1.2775 - val_acc: 0.5552 - lr: 0.0010\n",
            "Epoch 21/300\n",
            "2500/2500 [==============================] - 31s 12ms/step - loss: 1.0602 - acc: 0.6187 - val_loss: 1.2611 - val_acc: 0.5592 - lr: 0.0010\n",
            "Epoch 22/300\n",
            "2500/2500 [==============================] - 30s 12ms/step - loss: 1.0487 - acc: 0.6245 - val_loss: 1.2852 - val_acc: 0.5517 - lr: 0.0010\n",
            "Epoch 23/300\n",
            "2500/2500 [==============================] - 31s 12ms/step - loss: 1.0371 - acc: 0.6271 - val_loss: 1.2635 - val_acc: 0.5607 - lr: 0.0010\n",
            "Epoch 24/300\n",
            "2500/2500 [==============================] - 30s 12ms/step - loss: 1.0228 - acc: 0.6337 - val_loss: 1.2985 - val_acc: 0.5540 - lr: 0.0010\n",
            "Epoch 25/300\n",
            "2500/2500 [==============================] - 30s 12ms/step - loss: 1.0084 - acc: 0.6387 - val_loss: 1.2917 - val_acc: 0.5552 - lr: 0.0010\n",
            "Epoch 26/300\n",
            "2497/2500 [============================>.] - ETA: 0s - loss: 0.9966 - acc: 0.6425\n",
            "Epoch 26: ReduceLROnPlateau reducing learning rate to 0.00010000000474974513.\n",
            "2500/2500 [==============================] - 31s 12ms/step - loss: 0.9967 - acc: 0.6426 - val_loss: 1.2938 - val_acc: 0.5559 - lr: 0.0010\n",
            "Epoch 27/300\n",
            "2500/2500 [==============================] - 31s 12ms/step - loss: 0.9074 - acc: 0.6749 - val_loss: 1.2623 - val_acc: 0.5671 - lr: 1.0000e-04\n",
            "Epoch 28/300\n",
            "2500/2500 [==============================] - 31s 12ms/step - loss: 0.8943 - acc: 0.6818 - val_loss: 1.2655 - val_acc: 0.5669 - lr: 1.0000e-04\n",
            "Epoch 29/300\n",
            "2500/2500 [==============================] - 31s 12ms/step - loss: 0.8887 - acc: 0.6833 - val_loss: 1.2753 - val_acc: 0.5678 - lr: 1.0000e-04\n",
            "Epoch 30/300\n",
            "2500/2500 [==============================] - 31s 12ms/step - loss: 0.8850 - acc: 0.6859 - val_loss: 1.2796 - val_acc: 0.5668 - lr: 1.0000e-04\n",
            "Epoch 31/300\n",
            "2499/2500 [============================>.] - ETA: 0s - loss: 0.8811 - acc: 0.6873\n",
            "Epoch 31: ReduceLROnPlateau reducing learning rate to 1.0000000474974514e-05.\n",
            "2500/2500 [==============================] - 32s 13ms/step - loss: 0.8810 - acc: 0.6874 - val_loss: 1.2821 - val_acc: 0.5652 - lr: 1.0000e-04\n",
            "Epoch 32/300\n",
            "2500/2500 [==============================] - 32s 13ms/step - loss: 0.8689 - acc: 0.6913 - val_loss: 1.2813 - val_acc: 0.5664 - lr: 1.0000e-05\n",
            "Epoch 33/300\n",
            "2500/2500 [==============================] - 31s 12ms/step - loss: 0.8673 - acc: 0.6921 - val_loss: 1.2826 - val_acc: 0.5662 - lr: 1.0000e-05\n",
            "Epoch 34/300\n",
            "2500/2500 [==============================] - 31s 12ms/step - loss: 0.8668 - acc: 0.6914 - val_loss: 1.2826 - val_acc: 0.5663 - lr: 1.0000e-05\n",
            "Epoch 35/300\n",
            "2500/2500 [==============================] - 30s 12ms/step - loss: 0.8664 - acc: 0.6919 - val_loss: 1.2840 - val_acc: 0.5659 - lr: 1.0000e-05\n",
            "Epoch 36/300\n",
            "2496/2500 [============================>.] - ETA: 0s - loss: 0.8659 - acc: 0.6925\n",
            "Epoch 36: ReduceLROnPlateau reducing learning rate to 1.0000000656873453e-06.\n",
            "2500/2500 [==============================] - 31s 12ms/step - loss: 0.8659 - acc: 0.6924 - val_loss: 1.2850 - val_acc: 0.5658 - lr: 1.0000e-05\n",
            "Epoch 37/300\n",
            "2500/2500 [==============================] - 31s 12ms/step - loss: 0.8644 - acc: 0.6932 - val_loss: 1.2849 - val_acc: 0.5657 - lr: 1.0000e-06\n",
            "Epoch 38/300\n",
            "2500/2500 [==============================] - 30s 12ms/step - loss: 0.8643 - acc: 0.6933 - val_loss: 1.2849 - val_acc: 0.5660 - lr: 1.0000e-06\n",
            "Epoch 39/300\n",
            "2500/2500 [==============================] - 31s 12ms/step - loss: 0.8642 - acc: 0.6934 - val_loss: 1.2850 - val_acc: 0.5658 - lr: 1.0000e-06\n",
            "Epoch 40/300\n",
            "2500/2500 [==============================] - 30s 12ms/step - loss: 0.8642 - acc: 0.6934 - val_loss: 1.2851 - val_acc: 0.5656 - lr: 1.0000e-06\n",
            "Epoch 41/300\n",
            "2500/2500 [==============================] - ETA: 0s - loss: 0.8641 - acc: 0.6934\n",
            "Epoch 41: ReduceLROnPlateau reducing learning rate to 1e-06.\n",
            "2500/2500 [==============================] - 31s 12ms/step - loss: 0.8641 - acc: 0.6934 - val_loss: 1.2851 - val_acc: 0.5658 - lr: 1.0000e-06\n",
            "Epoch 42/300\n",
            "2500/2500 [==============================] - 31s 12ms/step - loss: 0.8641 - acc: 0.6931 - val_loss: 1.2852 - val_acc: 0.5656 - lr: 1.0000e-06\n",
            "Epoch 43/300\n",
            "2500/2500 [==============================] - 31s 12ms/step - loss: 0.8641 - acc: 0.6933 - val_loss: 1.2853 - val_acc: 0.5655 - lr: 1.0000e-06\n",
            "Epoch 44/300\n",
            "2500/2500 [==============================] - 31s 12ms/step - loss: 0.8640 - acc: 0.6933 - val_loss: 1.2854 - val_acc: 0.5656 - lr: 1.0000e-06\n",
            "Epoch 45/300\n",
            "2500/2500 [==============================] - 30s 12ms/step - loss: 0.8640 - acc: 0.6932 - val_loss: 1.2854 - val_acc: 0.5656 - lr: 1.0000e-06\n",
            "Epoch 46/300\n",
            "2500/2500 [==============================] - 31s 12ms/step - loss: 0.8639 - acc: 0.6933 - val_loss: 1.2856 - val_acc: 0.5656 - lr: 1.0000e-06\n",
            "Epoch 47/300\n",
            "2500/2500 [==============================] - 31s 12ms/step - loss: 0.8639 - acc: 0.6933 - val_loss: 1.2856 - val_acc: 0.5657 - lr: 1.0000e-06\n",
            "Epoch 48/300\n",
            "2500/2500 [==============================] - 30s 12ms/step - loss: 0.8639 - acc: 0.6930 - val_loss: 1.2857 - val_acc: 0.5657 - lr: 1.0000e-06\n",
            "Epoch 49/300\n",
            "2500/2500 [==============================] - 31s 12ms/step - loss: 0.8638 - acc: 0.6933 - val_loss: 1.2858 - val_acc: 0.5656 - lr: 1.0000e-06\n",
            "Epoch 50/300\n",
            "2500/2500 [==============================] - 31s 12ms/step - loss: 0.8638 - acc: 0.6934 - val_loss: 1.2858 - val_acc: 0.5658 - lr: 1.0000e-06\n",
            "Epoch 51/300\n",
            "2500/2500 [==============================] - 31s 12ms/step - loss: 0.8638 - acc: 0.6932 - val_loss: 1.2859 - val_acc: 0.5655 - lr: 1.0000e-06\n",
            "Epoch 52/300\n",
            "2500/2500 [==============================] - 30s 12ms/step - loss: 0.8637 - acc: 0.6933 - val_loss: 1.2859 - val_acc: 0.5657 - lr: 1.0000e-06\n",
            "Epoch 53/300\n",
            "2500/2500 [==============================] - 31s 12ms/step - loss: 0.8637 - acc: 0.6933 - val_loss: 1.2860 - val_acc: 0.5657 - lr: 1.0000e-06\n",
            "Epoch 54/300\n",
            "2500/2500 [==============================] - 31s 12ms/step - loss: 0.8637 - acc: 0.6931 - val_loss: 1.2860 - val_acc: 0.5658 - lr: 1.0000e-06\n",
            "Epoch 55/300\n",
            "2500/2500 [==============================] - 31s 12ms/step - loss: 0.8636 - acc: 0.6933 - val_loss: 1.2861 - val_acc: 0.5661 - lr: 1.0000e-06\n",
            "Epoch 56/300\n",
            "2500/2500 [==============================] - 30s 12ms/step - loss: 0.8636 - acc: 0.6935 - val_loss: 1.2861 - val_acc: 0.5660 - lr: 1.0000e-06\n",
            "Epoch 57/300\n",
            "2500/2500 [==============================] - 31s 12ms/step - loss: 0.8635 - acc: 0.6935 - val_loss: 1.2862 - val_acc: 0.5664 - lr: 1.0000e-06\n",
            "Epoch 58/300\n",
            "2500/2500 [==============================] - 31s 12ms/step - loss: 0.8635 - acc: 0.6935 - val_loss: 1.2863 - val_acc: 0.5664 - lr: 1.0000e-06\n",
            "Epoch 59/300\n",
            "2500/2500 [==============================] - 31s 12ms/step - loss: 0.8635 - acc: 0.6932 - val_loss: 1.2864 - val_acc: 0.5663 - lr: 1.0000e-06\n",
            "Epoch 60/300\n",
            "2500/2500 [==============================] - 31s 12ms/step - loss: 0.8634 - acc: 0.6933 - val_loss: 1.2864 - val_acc: 0.5663 - lr: 1.0000e-06\n",
            "Epoch 61/300\n",
            "2500/2500 [==============================] - 30s 12ms/step - loss: 0.8634 - acc: 0.6934 - val_loss: 1.2865 - val_acc: 0.5664 - lr: 1.0000e-06\n",
            "Epoch 62/300\n",
            "2500/2500 [==============================] - 31s 12ms/step - loss: 0.8634 - acc: 0.6934 - val_loss: 1.2866 - val_acc: 0.5661 - lr: 1.0000e-06\n",
            "Epoch 63/300\n",
            "2500/2500 [==============================] - 30s 12ms/step - loss: 0.8633 - acc: 0.6932 - val_loss: 1.2867 - val_acc: 0.5662 - lr: 1.0000e-06\n",
            "Epoch 64/300\n",
            "2500/2500 [==============================] - 31s 13ms/step - loss: 0.8633 - acc: 0.6935 - val_loss: 1.2867 - val_acc: 0.5664 - lr: 1.0000e-06\n",
            "Epoch 65/300\n",
            "2500/2500 [==============================] - 32s 13ms/step - loss: 0.8633 - acc: 0.6935 - val_loss: 1.2868 - val_acc: 0.5663 - lr: 1.0000e-06\n",
            "Epoch 66/300\n",
            "2500/2500 [==============================] - 31s 13ms/step - loss: 0.8632 - acc: 0.6931 - val_loss: 1.2869 - val_acc: 0.5664 - lr: 1.0000e-06\n",
            "Epoch 67/300\n",
            "2500/2500 [==============================] - 31s 13ms/step - loss: 0.8632 - acc: 0.6933 - val_loss: 1.2870 - val_acc: 0.5666 - lr: 1.0000e-06\n",
            "Epoch 68/300\n",
            "2500/2500 [==============================] - 33s 13ms/step - loss: 0.8632 - acc: 0.6933 - val_loss: 1.2870 - val_acc: 0.5662 - lr: 1.0000e-06\n",
            "Epoch 69/300\n",
            "2500/2500 [==============================] - 32s 13ms/step - loss: 0.8631 - acc: 0.6935 - val_loss: 1.2871 - val_acc: 0.5662 - lr: 1.0000e-06\n",
            "Epoch 70/300\n",
            "2500/2500 [==============================] - 32s 13ms/step - loss: 0.8631 - acc: 0.6935 - val_loss: 1.2872 - val_acc: 0.5662 - lr: 1.0000e-06\n",
            "Epoch 71/300\n",
            "2500/2500 [==============================] - 31s 13ms/step - loss: 0.8631 - acc: 0.6934 - val_loss: 1.2872 - val_acc: 0.5663 - lr: 1.0000e-06\n"
          ]
        },
        {
          "output_type": "execute_result",
          "data": {
            "text/plain": [
              "<keras.callbacks.History at 0x7f41703a5cd0>"
            ]
          },
          "metadata": {},
          "execution_count": 11
        }
      ]
    },
    {
      "cell_type": "markdown",
      "source": [
        "### ploting results"
      ],
      "metadata": {
        "id": "M792fjGoR0-w"
      }
    },
    {
      "cell_type": "code",
      "source": [
        "def plot_train_results():\n",
        "    '''plot the training results'''\n",
        "    csv = pd.read_csv(os.path.join(os.getcwd(), 'files/data.csv'))\n",
        "    plt.plot(csv['acc'], label='accuracy')\n",
        "    plt.plot(csv['val_acc'], label='validation accuracy')\n",
        "    plt.plot(csv['loss'], label='loss')\n",
        "    plt.plot(csv['val_loss'], label='validation loss')\n",
        "    plt.xlabel('epochs')\n",
        "    plt.ylabel('accuracy/loss')\n",
        "    plt.title('results of a simple mlp_mixer network on cifar10 dataset')\n",
        "    plt.legend()\n",
        "    plt.show()\n",
        "\n",
        "plot_train_results()"
      ],
      "metadata": {
        "colab": {
          "base_uri": "https://localhost:8080/",
          "height": 295
        },
        "id": "4WNL9SS0Rz10",
        "outputId": "3e53fd97-7a1c-41c1-9efd-ae08cb158209"
      },
      "execution_count": 14,
      "outputs": [
        {
          "output_type": "display_data",
          "data": {
            "text/plain": [
              "<Figure size 432x288 with 1 Axes>"
            ],
            "image/png": "[encoded data removed]"
          },
          "metadata": {
            "needs_background": "light"
          }
        }
      ]
    },
    {
      "cell_type": "markdown",
      "source": [
        "### Test"
      ],
      "metadata": {
        "id": "UUKilKq5S0mh"
      }
    },
    {
      "cell_type": "code",
      "source": [
        "loaded_model = tf.keras.models.load_model(model_path, custom_objects={'MixerBlock':MixerBlock})\n",
        "model.compile(optimizer = tf.keras.optimizers.RMSprop(learning_rate=1.0000e-06), loss='sparse_categorical_crossentropy', metrics='acc')\n",
        "loss, accuracy = model.evaluate(x_test, y_test, batch_size=batch_size)\n",
        "print('accuracy: ', accuracy)\n",
        "print('loss: ', loss)"
      ],
      "metadata": {
        "colab": {
          "base_uri": "https://localhost:8080/"
        },
        "id": "SNoRdDbnGzsB",
        "outputId": "6179d776-4ec4-4355-cc10-69fbdd9c7f96"
      },
      "execution_count": 13,
      "outputs": [
        {
          "output_type": "stream",
          "name": "stdout",
          "text": [
            "625/625 [==============================] - 4s 5ms/step - loss: 1.2938 - acc: 0.5693\n",
            "accuracy:  0.5692999958992004\n",
            "loss:  1.2937959432601929\n"
          ]
        }
      ]
    },
    {
      "cell_type": "code",
      "source": [],
      "metadata": {
        "id": "RAGiI5k-LK2V"
      },
      "execution_count": 33,
      "outputs": []
    }
  ]
}